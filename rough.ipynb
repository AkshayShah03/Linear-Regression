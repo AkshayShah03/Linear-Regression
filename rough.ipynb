{
 "cells": [
  {
   "attachments": {},
   "cell_type": "markdown",
   "metadata": {},
   "source": [
    "1. Generating Random Points"
   ]
  },
  {
   "cell_type": "code",
   "execution_count": 68,
   "metadata": {},
   "outputs": [],
   "source": [
    "import numpy as np\n",
    "import random as rd\n",
    "import pandas as pd\n",
    "import matplotlib.pyplot as plt\n",
    "\n",
    "dict = {}\n",
    "a,b = 0,0\n",
    "\n",
    "for i in range(10000):\n",
    "    a = rd.randint(1,1000)\n",
    "    b = rd.randint(1,1000)\n",
    "    dict[a] = b"
   ]
  },
  {
   "cell_type": "code",
   "execution_count": 24,
   "metadata": {},
   "outputs": [
    {
     "data": {
      "text/plain": [
       "1000"
      ]
     },
     "execution_count": 24,
     "metadata": {},
     "output_type": "execute_result"
    }
   ],
   "source": [
    "len(dict)"
   ]
  },
  {
   "cell_type": "code",
   "execution_count": 34,
   "metadata": {},
   "outputs": [
    {
     "name": "stdout",
     "output_type": "stream",
     "text": [
      "{1: 978, 2: 474, 3: 643, 4: 879, 5: 649, 6: 175, 7: 239, 8: 247, 9: 383, 10: 476, 11: 39, 12: 751, 13: 408, 14: 866, 15: 217, 16: 444, 17: 698, 18: 163, 19: 502, 20: 377, 21: 737, 22: 817, 23: 536, 24: 196, 25: 634, 26: 377, 27: 632, 28: 991, 29: 877, 30: 241, 31: 506, 32: 841, 33: 182, 34: 447, 35: 495, 36: 269, 37: 915, 38: 834, 39: 605, 40: 883, 41: 475, 42: 44, 43: 511, 44: 27, 45: 198, 46: 779, 47: 984, 48: 46, 49: 385, 50: 183, 51: 599, 52: 574, 53: 798, 54: 486, 55: 378, 56: 661, 57: 654, 58: 513, 59: 678, 60: 907, 61: 114, 62: 607, 63: 916, 64: 513, 65: 751, 66: 245, 67: 722, 68: 104, 69: 438, 70: 281, 71: 940, 72: 748, 73: 961, 74: 84, 75: 177, 76: 477, 77: 260, 78: 788, 79: 419, 80: 797, 81: 517, 82: 506, 83: 821, 84: 644, 85: 649, 86: 453, 87: 788, 88: 670, 89: 202, 90: 994, 91: 659, 92: 218, 93: 791, 94: 552, 95: 307, 96: 644, 97: 946, 98: 73, 99: 544, 100: 937, 101: 256, 102: 61, 103: 475, 104: 256, 105: 566, 106: 918, 107: 904, 108: 737, 109: 576, 110: 992, 111: 460, 112: 625, 113: 183, 114: 253, 115: 660, 116: 75, 117: 529, 118: 583, 119: 519, 120: 961, 121: 422, 122: 542, 123: 237, 124: 989, 125: 725, 126: 635, 127: 250, 128: 93, 129: 978, 130: 271, 131: 170, 132: 666, 133: 990, 134: 883, 135: 709, 136: 993, 137: 922, 138: 985, 139: 465, 140: 782, 141: 97, 142: 34, 143: 803, 144: 912, 145: 494, 146: 719, 147: 77, 148: 870, 149: 925, 150: 1, 151: 583, 152: 552, 153: 87, 154: 819, 155: 701, 156: 584, 157: 983, 158: 239, 159: 231, 160: 650, 161: 456, 162: 466, 163: 316, 164: 378, 165: 649, 166: 436, 167: 257, 168: 211, 169: 806, 170: 179, 171: 493, 172: 351, 173: 879, 174: 16, 175: 247, 176: 530, 177: 823, 178: 859, 179: 27, 180: 708, 181: 473, 182: 10, 183: 995, 184: 298, 185: 450, 186: 620, 187: 704, 188: 818, 189: 644, 190: 220, 191: 901, 192: 45, 193: 21, 194: 723, 195: 224, 196: 304, 197: 868, 198: 964, 199: 642, 200: 486, 201: 57, 202: 835, 203: 44, 204: 383, 205: 88, 206: 18, 207: 166, 208: 932, 209: 256, 210: 898, 211: 610, 212: 241, 213: 606, 214: 860, 215: 518, 216: 319, 217: 432, 218: 338, 219: 609, 220: 393, 221: 631, 222: 213, 223: 558, 224: 975, 225: 233, 226: 283, 227: 702, 228: 434, 229: 919, 230: 488, 231: 166, 232: 606, 233: 394, 234: 968, 235: 296, 236: 602, 237: 771, 238: 196, 239: 464, 240: 332, 241: 651, 242: 460, 243: 893, 244: 843, 245: 45, 246: 497, 247: 552, 248: 52, 249: 625, 250: 833, 251: 97, 252: 51, 253: 443, 254: 441, 255: 127, 256: 109, 257: 195, 258: 679, 259: 402, 260: 204, 261: 568, 262: 13, 263: 303, 264: 605, 265: 60, 266: 563, 267: 52, 268: 120, 269: 515, 270: 152, 271: 180, 272: 969, 273: 363, 274: 940, 275: 137, 276: 295, 277: 145, 278: 364, 279: 919, 280: 426, 281: 378, 282: 544, 283: 561, 284: 481, 285: 113, 286: 502, 287: 264, 288: 829, 289: 518, 290: 163, 291: 862, 292: 625, 293: 469, 294: 644, 295: 243, 296: 372, 297: 400, 298: 216, 299: 616, 300: 221, 301: 887, 302: 636, 303: 249, 304: 946, 305: 205, 306: 795, 307: 268, 308: 55, 309: 230, 310: 570, 311: 882, 312: 159, 313: 637, 314: 645, 315: 89, 316: 959, 317: 842, 318: 471, 319: 844, 320: 857, 321: 687, 322: 255, 323: 952, 324: 324, 325: 82, 326: 245, 327: 182, 328: 79, 329: 980, 330: 553, 331: 25, 332: 862, 333: 299, 334: 930, 335: 471, 336: 280, 337: 567, 338: 220, 339: 166, 340: 73, 341: 262, 342: 197, 343: 907, 344: 195, 345: 131, 346: 15, 347: 833, 348: 910, 349: 318, 350: 395, 351: 942, 352: 458, 353: 303, 354: 27, 355: 622, 356: 626, 357: 451, 358: 524, 359: 515, 360: 778, 361: 281, 362: 353, 363: 578, 364: 492, 365: 719, 366: 91, 367: 529, 368: 759, 369: 105, 370: 930, 371: 93, 372: 193, 373: 395, 374: 754, 375: 790, 376: 186, 377: 287, 378: 864, 379: 188, 380: 81, 381: 576, 382: 267, 383: 788, 384: 421, 385: 803, 386: 111, 387: 892, 388: 334, 389: 737, 390: 48, 391: 227, 392: 641, 393: 578, 394: 569, 395: 420, 396: 906, 397: 868, 398: 278, 399: 298, 400: 992, 401: 446, 402: 371, 403: 89, 404: 805, 405: 245, 406: 183, 407: 400, 408: 245, 409: 215, 410: 445, 411: 207, 412: 585, 413: 268, 414: 60, 415: 275, 416: 912, 417: 295, 418: 425, 419: 456, 420: 606, 421: 263, 422: 102, 423: 819, 424: 245, 425: 854, 426: 591, 427: 440, 428: 571, 429: 86, 430: 651, 431: 562, 432: 39, 433: 445, 434: 954, 435: 23, 436: 147, 437: 998, 438: 501, 439: 832, 440: 116, 441: 960, 442: 175, 443: 619, 444: 334, 445: 208, 446: 553, 447: 684, 448: 570, 449: 828, 450: 694, 451: 321, 452: 596, 453: 379, 454: 124, 455: 647, 456: 27, 457: 357, 458: 14, 459: 728, 460: 319, 461: 305, 462: 895, 463: 762, 464: 978, 465: 359, 466: 245, 467: 325, 468: 842, 469: 967, 470: 963, 471: 611, 472: 359, 473: 666, 474: 155, 475: 711, 476: 757, 477: 307, 478: 736, 479: 986, 480: 92, 481: 732, 482: 644, 483: 231, 484: 851, 485: 504, 486: 464, 487: 436, 488: 885, 489: 575, 490: 940, 491: 817, 492: 869, 493: 264, 494: 649, 495: 605, 496: 805, 497: 688, 498: 250, 499: 655, 500: 655, 501: 985, 502: 412, 503: 817, 504: 583, 505: 501, 506: 568, 507: 133, 508: 760, 509: 590, 510: 110, 511: 786, 512: 937, 513: 798, 514: 321, 515: 959, 516: 106, 517: 86, 518: 938, 519: 579, 520: 737, 521: 317, 522: 765, 523: 302, 524: 810, 525: 885, 526: 448, 527: 870, 528: 368, 529: 846, 530: 53, 531: 820, 532: 651, 533: 903, 534: 273, 535: 490, 536: 646, 537: 746, 538: 694, 539: 996, 540: 168, 541: 212, 542: 766, 543: 922, 544: 693, 545: 617, 546: 561, 547: 810, 548: 4, 549: 560, 550: 600, 551: 495, 552: 981, 553: 67, 554: 300, 555: 7, 556: 238, 557: 617, 558: 536, 559: 137, 560: 301, 561: 549, 562: 282, 563: 475, 564: 673, 565: 490, 566: 90, 567: 493, 568: 513, 569: 138, 570: 855, 571: 845, 572: 941, 573: 707, 574: 415, 575: 49, 576: 997, 577: 270, 578: 85, 579: 726, 580: 462, 581: 592, 582: 981, 583: 121, 584: 568, 585: 250, 586: 170, 587: 220, 588: 969, 589: 638, 590: 887, 591: 142, 592: 214, 593: 484, 594: 61, 595: 352, 596: 256, 597: 212, 598: 123, 599: 34, 600: 727, 601: 477, 602: 520, 603: 498, 604: 321, 605: 184, 606: 264, 607: 590, 608: 194, 609: 786, 610: 542, 611: 711, 612: 82, 613: 417, 614: 930, 615: 51, 616: 353, 617: 153, 618: 243, 619: 165, 620: 850, 621: 677, 622: 86, 623: 311, 624: 326, 625: 516, 626: 638, 627: 631, 628: 821, 629: 811, 630: 314, 631: 788, 632: 42, 633: 161, 634: 738, 635: 24, 636: 695, 637: 695, 638: 131, 639: 1, 640: 929, 641: 966, 642: 157, 643: 150, 644: 337, 645: 154, 646: 885, 647: 184, 648: 475, 649: 481, 650: 688, 651: 699, 652: 410, 653: 210, 654: 458, 655: 391, 656: 916, 657: 505, 658: 261, 659: 516, 660: 176, 661: 565, 662: 834, 663: 417, 664: 648, 665: 86, 666: 544, 667: 258, 668: 281, 669: 803, 670: 705, 671: 819, 672: 554, 673: 849, 674: 474, 675: 271, 676: 320, 677: 149, 678: 300, 679: 772, 680: 136, 681: 317, 682: 127, 683: 674, 684: 994, 685: 713, 686: 555, 687: 163, 688: 917, 689: 253, 690: 323, 691: 377, 692: 357, 693: 733, 694: 111, 695: 180, 696: 367, 697: 142, 698: 969, 699: 272, 700: 808, 701: 606, 702: 252, 703: 114, 704: 455, 705: 657, 706: 757, 707: 274, 708: 626, 709: 753, 710: 474, 711: 442, 712: 579, 713: 584, 714: 620, 715: 29, 716: 575, 717: 726, 718: 160, 719: 775, 720: 316, 721: 386, 722: 555, 723: 595, 724: 794, 725: 549, 726: 957, 727: 192, 728: 543, 729: 54, 730: 874, 731: 343, 732: 991, 733: 229, 734: 735, 735: 551, 736: 732, 737: 767, 738: 383, 739: 619, 740: 131, 741: 933, 742: 621, 743: 984, 744: 627, 745: 480, 746: 584, 747: 893, 748: 924, 749: 221, 750: 487, 751: 567, 752: 679, 753: 711, 754: 819, 755: 959, 756: 880, 757: 51, 758: 167, 759: 79, 760: 563, 761: 485, 762: 411, 763: 938, 764: 124, 765: 636, 766: 322, 767: 13, 768: 113, 769: 452, 770: 820, 771: 485, 772: 444, 773: 544, 774: 837, 775: 882, 776: 459, 777: 881, 778: 366, 779: 906, 780: 1, 781: 737, 782: 183, 783: 164, 784: 607, 785: 81, 786: 580, 787: 152, 788: 628, 789: 142, 790: 259, 791: 540, 792: 982, 793: 182, 794: 280, 795: 135, 796: 539, 797: 349, 798: 225, 799: 13, 800: 610, 801: 695, 802: 969, 803: 771, 804: 49, 805: 861, 806: 13, 807: 53, 808: 144, 809: 539, 810: 711, 811: 121, 812: 134, 813: 671, 814: 559, 815: 1000, 816: 228, 817: 774, 818: 148, 819: 506, 820: 152, 821: 990, 822: 235, 823: 561, 824: 395, 825: 666, 826: 237, 827: 567, 828: 456, 829: 67, 830: 398, 831: 348, 832: 606, 833: 883, 834: 969, 835: 567, 836: 435, 837: 836, 838: 364, 839: 926, 840: 279, 841: 453, 842: 564, 843: 158, 844: 934, 845: 194, 846: 915, 847: 595, 848: 283, 849: 896, 850: 781, 851: 960, 852: 86, 853: 468, 854: 107, 855: 342, 856: 316, 857: 573, 858: 269, 859: 677, 860: 678, 861: 174, 862: 556, 863: 629, 864: 105, 865: 33, 866: 81, 867: 600, 868: 919, 869: 671, 870: 626, 871: 357, 872: 962, 873: 521, 874: 167, 875: 574, 876: 279, 877: 76, 878: 479, 879: 962, 880: 839, 881: 832, 882: 398, 883: 572, 884: 687, 885: 482, 886: 909, 887: 488, 888: 301, 889: 462, 890: 391, 891: 647, 892: 906, 893: 464, 894: 885, 895: 204, 896: 449, 897: 670, 898: 46, 899: 482, 900: 813, 901: 283, 902: 921, 903: 187, 904: 257, 905: 245, 906: 177, 907: 489, 908: 965, 909: 209, 910: 502, 911: 482, 912: 897, 913: 239, 914: 898, 915: 633, 916: 831, 917: 175, 918: 304, 919: 206, 920: 306, 921: 173, 922: 22, 923: 415, 924: 345, 925: 473, 926: 619, 927: 103, 928: 717, 929: 532, 930: 863, 931: 546, 932: 46, 933: 273, 934: 708, 935: 305, 936: 195, 937: 194, 938: 351, 939: 100, 940: 537, 941: 726, 942: 29, 943: 953, 944: 234, 945: 348, 946: 113, 947: 305, 948: 490, 949: 618, 950: 267, 951: 881, 952: 374, 953: 509, 954: 458, 955: 999, 956: 948, 957: 401, 958: 643, 959: 477, 960: 800, 961: 545, 962: 138, 963: 120, 964: 69, 965: 154, 966: 659, 967: 193, 968: 476, 969: 758, 970: 381, 971: 80, 972: 763, 973: 794, 974: 65, 975: 578, 976: 109, 977: 334, 978: 751, 979: 479, 980: 719, 981: 159, 982: 125, 983: 997, 984: 585, 985: 964, 986: 87, 987: 450, 988: 902, 989: 373, 990: 166, 991: 972, 992: 520, 993: 422, 994: 355, 995: 87, 996: 318, 997: 607, 998: 601, 999: 164, 1000: 697}\n"
     ]
    }
   ],
   "source": [
    "dic2 = {}\n",
    "for i in sorted(dict):\n",
    "   dic2[i]=dict[i]\n",
    "print(dic2)"
   ]
  },
  {
   "cell_type": "code",
   "execution_count": 57,
   "metadata": {},
   "outputs": [
    {
     "name": "stdout",
     "output_type": "stream",
     "text": [
      "        0\n",
      "1     978\n",
      "2     474\n",
      "3     643\n",
      "4     879\n",
      "5     649\n",
      "...   ...\n",
      "996   318\n",
      "997   607\n",
      "998   601\n",
      "999   164\n",
      "1000  697\n",
      "\n",
      "[1000 rows x 1 columns]\n"
     ]
    }
   ],
   "source": [
    "new = pd.DataFrame.from_dict(dic2,orient='index')\n",
    "print(new)\n",
    "#converting dictionary with mapped values into a dataframe."
   ]
  },
  {
   "cell_type": "code",
   "execution_count": 58,
   "metadata": {},
   "outputs": [],
   "source": [
    "new['index'] = new[0].values"
   ]
  },
  {
   "cell_type": "code",
   "execution_count": 46,
   "metadata": {},
   "outputs": [
    {
     "data": {
      "text/html": [
       "<div>\n",
       "<style scoped>\n",
       "    .dataframe tbody tr th:only-of-type {\n",
       "        vertical-align: middle;\n",
       "    }\n",
       "\n",
       "    .dataframe tbody tr th {\n",
       "        vertical-align: top;\n",
       "    }\n",
       "\n",
       "    .dataframe thead th {\n",
       "        text-align: right;\n",
       "    }\n",
       "</style>\n",
       "<table border=\"1\" class=\"dataframe\">\n",
       "  <thead>\n",
       "    <tr style=\"text-align: right;\">\n",
       "      <th></th>\n",
       "      <th>0</th>\n",
       "      <th>index</th>\n",
       "    </tr>\n",
       "  </thead>\n",
       "  <tbody>\n",
       "    <tr>\n",
       "      <th>1</th>\n",
       "      <td>978</td>\n",
       "      <td>978</td>\n",
       "    </tr>\n",
       "    <tr>\n",
       "      <th>2</th>\n",
       "      <td>474</td>\n",
       "      <td>474</td>\n",
       "    </tr>\n",
       "    <tr>\n",
       "      <th>3</th>\n",
       "      <td>643</td>\n",
       "      <td>643</td>\n",
       "    </tr>\n",
       "    <tr>\n",
       "      <th>4</th>\n",
       "      <td>879</td>\n",
       "      <td>879</td>\n",
       "    </tr>\n",
       "    <tr>\n",
       "      <th>5</th>\n",
       "      <td>649</td>\n",
       "      <td>649</td>\n",
       "    </tr>\n",
       "    <tr>\n",
       "      <th>...</th>\n",
       "      <td>...</td>\n",
       "      <td>...</td>\n",
       "    </tr>\n",
       "    <tr>\n",
       "      <th>996</th>\n",
       "      <td>318</td>\n",
       "      <td>318</td>\n",
       "    </tr>\n",
       "    <tr>\n",
       "      <th>997</th>\n",
       "      <td>607</td>\n",
       "      <td>607</td>\n",
       "    </tr>\n",
       "    <tr>\n",
       "      <th>998</th>\n",
       "      <td>601</td>\n",
       "      <td>601</td>\n",
       "    </tr>\n",
       "    <tr>\n",
       "      <th>999</th>\n",
       "      <td>164</td>\n",
       "      <td>164</td>\n",
       "    </tr>\n",
       "    <tr>\n",
       "      <th>1000</th>\n",
       "      <td>697</td>\n",
       "      <td>697</td>\n",
       "    </tr>\n",
       "  </tbody>\n",
       "</table>\n",
       "<p>1000 rows × 2 columns</p>\n",
       "</div>"
      ],
      "text/plain": [
       "        0  index\n",
       "1     978    978\n",
       "2     474    474\n",
       "3     643    643\n",
       "4     879    879\n",
       "5     649    649\n",
       "...   ...    ...\n",
       "996   318    318\n",
       "997   607    607\n",
       "998   601    601\n",
       "999   164    164\n",
       "1000  697    697\n",
       "\n",
       "[1000 rows x 2 columns]"
      ]
     },
     "execution_count": 46,
     "metadata": {},
     "output_type": "execute_result"
    }
   ],
   "source": [
    "new"
   ]
  },
  {
   "cell_type": "code",
   "execution_count": 59,
   "metadata": {},
   "outputs": [],
   "source": [
    "new = new.drop(columns='index')"
   ]
  },
  {
   "cell_type": "code",
   "execution_count": 60,
   "metadata": {},
   "outputs": [
    {
     "data": {
      "text/html": [
       "<div>\n",
       "<style scoped>\n",
       "    .dataframe tbody tr th:only-of-type {\n",
       "        vertical-align: middle;\n",
       "    }\n",
       "\n",
       "    .dataframe tbody tr th {\n",
       "        vertical-align: top;\n",
       "    }\n",
       "\n",
       "    .dataframe thead th {\n",
       "        text-align: right;\n",
       "    }\n",
       "</style>\n",
       "<table border=\"1\" class=\"dataframe\">\n",
       "  <thead>\n",
       "    <tr style=\"text-align: right;\">\n",
       "      <th></th>\n",
       "      <th>0</th>\n",
       "    </tr>\n",
       "  </thead>\n",
       "  <tbody>\n",
       "    <tr>\n",
       "      <th>1</th>\n",
       "      <td>978</td>\n",
       "    </tr>\n",
       "    <tr>\n",
       "      <th>2</th>\n",
       "      <td>474</td>\n",
       "    </tr>\n",
       "    <tr>\n",
       "      <th>3</th>\n",
       "      <td>643</td>\n",
       "    </tr>\n",
       "    <tr>\n",
       "      <th>4</th>\n",
       "      <td>879</td>\n",
       "    </tr>\n",
       "    <tr>\n",
       "      <th>5</th>\n",
       "      <td>649</td>\n",
       "    </tr>\n",
       "    <tr>\n",
       "      <th>...</th>\n",
       "      <td>...</td>\n",
       "    </tr>\n",
       "    <tr>\n",
       "      <th>996</th>\n",
       "      <td>318</td>\n",
       "    </tr>\n",
       "    <tr>\n",
       "      <th>997</th>\n",
       "      <td>607</td>\n",
       "    </tr>\n",
       "    <tr>\n",
       "      <th>998</th>\n",
       "      <td>601</td>\n",
       "    </tr>\n",
       "    <tr>\n",
       "      <th>999</th>\n",
       "      <td>164</td>\n",
       "    </tr>\n",
       "    <tr>\n",
       "      <th>1000</th>\n",
       "      <td>697</td>\n",
       "    </tr>\n",
       "  </tbody>\n",
       "</table>\n",
       "<p>1000 rows × 1 columns</p>\n",
       "</div>"
      ],
      "text/plain": [
       "        0\n",
       "1     978\n",
       "2     474\n",
       "3     643\n",
       "4     879\n",
       "5     649\n",
       "...   ...\n",
       "996   318\n",
       "997   607\n",
       "998   601\n",
       "999   164\n",
       "1000  697\n",
       "\n",
       "[1000 rows x 1 columns]"
      ]
     },
     "execution_count": 60,
     "metadata": {},
     "output_type": "execute_result"
    }
   ],
   "source": [
    "new"
   ]
  },
  {
   "cell_type": "code",
   "execution_count": 61,
   "metadata": {},
   "outputs": [],
   "source": [
    "new.rename(columns = {0:'y'},inplace=True)"
   ]
  },
  {
   "cell_type": "code",
   "execution_count": 62,
   "metadata": {},
   "outputs": [],
   "source": [
    "new['x'] = new.index"
   ]
  },
  {
   "cell_type": "code",
   "execution_count": 63,
   "metadata": {},
   "outputs": [
    {
     "data": {
      "text/html": [
       "<div>\n",
       "<style scoped>\n",
       "    .dataframe tbody tr th:only-of-type {\n",
       "        vertical-align: middle;\n",
       "    }\n",
       "\n",
       "    .dataframe tbody tr th {\n",
       "        vertical-align: top;\n",
       "    }\n",
       "\n",
       "    .dataframe thead th {\n",
       "        text-align: right;\n",
       "    }\n",
       "</style>\n",
       "<table border=\"1\" class=\"dataframe\">\n",
       "  <thead>\n",
       "    <tr style=\"text-align: right;\">\n",
       "      <th></th>\n",
       "      <th>y</th>\n",
       "      <th>x</th>\n",
       "    </tr>\n",
       "  </thead>\n",
       "  <tbody>\n",
       "    <tr>\n",
       "      <th>1</th>\n",
       "      <td>978</td>\n",
       "      <td>1</td>\n",
       "    </tr>\n",
       "    <tr>\n",
       "      <th>2</th>\n",
       "      <td>474</td>\n",
       "      <td>2</td>\n",
       "    </tr>\n",
       "    <tr>\n",
       "      <th>3</th>\n",
       "      <td>643</td>\n",
       "      <td>3</td>\n",
       "    </tr>\n",
       "    <tr>\n",
       "      <th>4</th>\n",
       "      <td>879</td>\n",
       "      <td>4</td>\n",
       "    </tr>\n",
       "    <tr>\n",
       "      <th>5</th>\n",
       "      <td>649</td>\n",
       "      <td>5</td>\n",
       "    </tr>\n",
       "    <tr>\n",
       "      <th>...</th>\n",
       "      <td>...</td>\n",
       "      <td>...</td>\n",
       "    </tr>\n",
       "    <tr>\n",
       "      <th>996</th>\n",
       "      <td>318</td>\n",
       "      <td>996</td>\n",
       "    </tr>\n",
       "    <tr>\n",
       "      <th>997</th>\n",
       "      <td>607</td>\n",
       "      <td>997</td>\n",
       "    </tr>\n",
       "    <tr>\n",
       "      <th>998</th>\n",
       "      <td>601</td>\n",
       "      <td>998</td>\n",
       "    </tr>\n",
       "    <tr>\n",
       "      <th>999</th>\n",
       "      <td>164</td>\n",
       "      <td>999</td>\n",
       "    </tr>\n",
       "    <tr>\n",
       "      <th>1000</th>\n",
       "      <td>697</td>\n",
       "      <td>1000</td>\n",
       "    </tr>\n",
       "  </tbody>\n",
       "</table>\n",
       "<p>1000 rows × 2 columns</p>\n",
       "</div>"
      ],
      "text/plain": [
       "        y     x\n",
       "1     978     1\n",
       "2     474     2\n",
       "3     643     3\n",
       "4     879     4\n",
       "5     649     5\n",
       "...   ...   ...\n",
       "996   318   996\n",
       "997   607   997\n",
       "998   601   998\n",
       "999   164   999\n",
       "1000  697  1000\n",
       "\n",
       "[1000 rows x 2 columns]"
      ]
     },
     "execution_count": 63,
     "metadata": {},
     "output_type": "execute_result"
    }
   ],
   "source": [
    "new"
   ]
  },
  {
   "attachments": {},
   "cell_type": "markdown",
   "metadata": {},
   "source": [
    "2. Simple Regression Model"
   ]
  },
  {
   "cell_type": "code",
   "execution_count": 64,
   "metadata": {},
   "outputs": [],
   "source": [
    "# collecting x & y\n",
    "X = new['x'].values\n",
    "Y = new['y'].values\n",
    "\n",
    "# calculate mean of x & y using an inbuilt numpy method mean()\n",
    "mean_x = np.mean(X)\n",
    "mean_y = np.mean(Y)"
   ]
  },
  {
   "cell_type": "code",
   "execution_count": 80,
   "metadata": {},
   "outputs": [
    {
     "name": "stdout",
     "output_type": "stream",
     "text": [
      "-0.04025200025200024 512.9321261261261\n"
     ]
    }
   ],
   "source": [
    "m = len(X)\n",
    "\n",
    "# using the formula to calculate m & c\n",
    "num = 0\n",
    "den = 0\n",
    "for i in range(m):\n",
    "  num += (X[i] - mean_x) * (Y[i] - mean_y)\n",
    "  den += (X[i] - mean_x) ** 2\n",
    "m = num / den\n",
    "c = mean_y - (m * mean_x)\n",
    "\n",
    "print (m,c)"
   ]
  },
  {
   "cell_type": "code",
   "execution_count": 81,
   "metadata": {},
   "outputs": [
    {
     "data": {
      "image/png": "[encoded data removed]",
      "text/plain": [
       "<Figure size 640x480 with 1 Axes>"
      ]
     },
     "metadata": {},
     "output_type": "display_data"
    }
   ],
   "source": [
    "max_x = np.max(X) + 500\n",
    "min_x = np.min(Y) - 500\n",
    "\n",
    "# calculating line values x and y\n",
    "x = np.linspace (min_x, max_x, 50)\n",
    "y = c + m * x\n",
    "\n",
    "plt.plot(x, y, color='#58b970', label='Regression Line')\n",
    "plt.scatter(X, Y, c='#ef5423', label='data points')\n",
    "\n",
    "plt.xlabel('x')\n",
    "plt.ylabel('y')\n",
    "plt.legend()\n",
    "plt.show()"
   ]
  },
  {
   "attachments": {},
   "cell_type": "markdown",
   "metadata": {},
   "source": [
    "3. Gradient Descent "
   ]
  },
  {
   "cell_type": "code",
   "execution_count": 86,
   "metadata": {},
   "outputs": [
    {
     "name": "stdout",
     "output_type": "stream",
     "text": [
      "nan nan\n"
     ]
    },
    {
     "name": "stderr",
     "output_type": "stream",
     "text": [
      "/tmp/ipykernel_6026/1017856838.py:12: RuntimeWarning: overflow encountered in multiply\n",
      "  D_m = (-2/n) * sum(x * (y - Y_pred))  # Derivative wrt m\n",
      "/tmp/ipykernel_6026/1017856838.py:12: RuntimeWarning: overflow encountered in scalar add\n",
      "  D_m = (-2/n) * sum(x * (y - Y_pred))  # Derivative wrt m\n",
      "/tmp/ipykernel_6026/1017856838.py:13: RuntimeWarning: invalid value encountered in scalar add\n",
      "  D_c = (-2/n) * sum(y- Y_pred)  # Derivative wrt c\n",
      "/tmp/ipykernel_6026/1017856838.py:14: RuntimeWarning: invalid value encountered in scalar subtract\n",
      "  m2 = m2 - L * D_m  # Update m\n"
     ]
    }
   ],
   "source": [
    "m2 = 0\n",
    "c2 = 0\n",
    "\n",
    "L = 0.0001  # The learning Rate\n",
    "iterations = 1000  # The number of iterations to perform gradient descent\n",
    "\n",
    "n = float(len(x)) # Number of elements in X\n",
    "\n",
    "# Performing Gradient Descent \n",
    "for i in range(iterations): \n",
    "    Y_pred = m2*x + c2  # The current predicted value of Y\n",
    "    D_m = (-2/n) * sum(x * (y - Y_pred))  # Derivative wrt m\n",
    "    D_c = (-2/n) * sum(y- Y_pred)  # Derivative wrt c\n",
    "    m2 = m2 - L * D_m  # Update m\n",
    "    c2 = c2 - L * D_c  # Update c\n",
    "    \n",
    "print (m2, c2)"
   ]
  },
  {
   "attachments": {},
   "cell_type": "markdown",
   "metadata": {},
   "source": [
    "4. Using sklearn"
   ]
  },
  {
   "cell_type": "code",
   "execution_count": 90,
   "metadata": {},
   "outputs": [
    {
     "ename": "ModuleNotFoundError",
     "evalue": "No module named 'sklearn'",
     "output_type": "error",
     "traceback": [
      "\u001b[0;31m---------------------------------------------------------------------------\u001b[0m",
      "\u001b[0;31mModuleNotFoundError\u001b[0m                       Traceback (most recent call last)",
      "Cell \u001b[0;32mIn[90], line 1\u001b[0m\n\u001b[0;32m----> 1\u001b[0m \u001b[39mfrom\u001b[39;00m \u001b[39msklearn\u001b[39;00m\u001b[39m.\u001b[39;00m\u001b[39mlinear_model\u001b[39;00m \u001b[39mimport\u001b[39;00m LinearRegression\n\u001b[1;32m      2\u001b[0m \u001b[39mfrom\u001b[39;00m \u001b[39msklearn\u001b[39;00m\u001b[39m.\u001b[39;00m\u001b[39mmetrics\u001b[39;00m \u001b[39mimport\u001b[39;00m mean_squared_error\n\u001b[1;32m      4\u001b[0m X \u001b[39m=\u001b[39m X\u001b[39m.\u001b[39mreshape(m, \u001b[39m1\u001b[39m)\n",
      "\u001b[0;31mModuleNotFoundError\u001b[0m: No module named 'sklearn'"
     ]
    }
   ],
   "source": [
    "from sklearn.linear_model import LinearRegression\n",
    "from sklearn.metrics import mean_squared_error\n",
    "\n",
    "X = X.reshape(m, 1)\n",
    "reg = LinearRegression()\n",
    "reg = reg.fit(X,Y)\n",
    "\n",
    "Y_pred = reg.predict(X)\n",
    "r2_square = reg.score(X, Y)\n",
    "\n",
    "print (r2_square)"
   ]
  },
  {
   "cell_type": "code",
   "execution_count": null,
   "metadata": {},
   "outputs": [],
   "source": []
  }
 ],
 "metadata": {
  "kernelspec": {
   "display_name": "Python 3",
   "language": "python",
   "name": "python3"
  },
  "language_info": {
   "codemirror_mode": {
    "name": "ipython",
    "version": 3
   },
   "file_extension": ".py",
   "mimetype": "text/x-python",
   "name": "python",
   "nbconvert_exporter": "python",
   "pygments_lexer": "ipython3",
   "version": "3.10.8"
  },
  "orig_nbformat": 4,
  "vscode": {
   "interpreter": {
    "hash": "767d51c1340bd893661ea55ea3124f6de3c7a262a8b4abca0554b478b1e2ff90"
   }
  }
 },
 "nbformat": 4,
 "nbformat_minor": 2
}
